{
 "cells": [
  {
   "cell_type": "markdown",
   "metadata": {},
   "source": [
    "# Model demo\n",
    "\n"
   ]
  },
  {
   "cell_type": "code",
   "execution_count": null,
   "metadata": {},
   "outputs": [],
   "source": [
    "import torch\n",
    "import torch.nn as nn\n",
    "import torch.nn.functional as F\n",
    "from preprocess import *\n",
    "from spacy.lang.en import English\n",
    "import os\n",
    "import numpy as np\n",
    "from utils import save_file, load_file, load_model\n",
    "device = torch.device('cuda' if torch.cuda.is_available() else 'cpu')\n",
    "print(device)"
   ]
  },
  {
   "cell_type": "code",
   "execution_count": null,
   "metadata": {},
   "outputs": [],
   "source": [
    "MODEL_FLAG = 'lstm'\n",
    "state_file_path = f'weights/{MODEL_FLAG}/{MODEL_FLAG}_best.pth'\n",
    "\n",
    "labels = ['neutral', 'entailment', 'contradiction']\n",
    "vocab_file = 'NLI_vocab.pkl'\n",
    "folder = 'saved_files'\n",
    "if os.path.exists(f'{folder}/{vocab_file}'):\n",
    "    print('loading vocab from file')\n",
    "    vocab = load_file(vocab_file)\n",
    "else:\n",
    "    print('creating vocab with training set')\n",
    "    train_split = preprocess(split='train')\n",
    "    vocab = create_vocab(train_split)\n",
    "    save_file(vocab, vocab_file)\n",
    "\n",
    "vocab_size = len(vocab.mapping)\n",
    "embeddings = align_vocab_with_glove(vocab)\n",
    "model = load_model(embeddings, labels, vocab_size, device, MODEL_FLAG, state_file_path = None)"
   ]
  },
  {
   "cell_type": "code",
   "execution_count": null,
   "metadata": {},
   "outputs": [],
   "source": [
    "def transform_sentence(sent, vocab):\n",
    "    nlp = English()\n",
    "    tokenizer = nlp.tokenizer\n",
    "    sent = list(tokenizer(sent.lower()))\n",
    "    sent_ids = []\n",
    "    for token in sent:\n",
    "        sent_ids.append(vocab.mapping.get(token.text, 0))\n",
    "    return sent_ids, [len(sent_ids)]\n",
    "\n",
    "transform_sentence('This maps sentences to id', vocab)"
   ]
  },
  {
   "cell_type": "code",
   "execution_count": null,
   "metadata": {},
   "outputs": [],
   "source": [
    "def make_prediction(sent1, sent2, vocab, model, model_flag):\n",
    "    sent_ids1, length1 = transform_sentence(sent1, vocab)\n",
    "    sent_ids2, length2 = transform_sentence(sent2, vocab)\n",
    "    sent1 = torch.tensor([sent_ids1])\n",
    "    sent2 = torch.tensor([sent_ids2])\n",
    "    print(sent1.shape)\n",
    "    if model_flag == 'bow':\n",
    "        predictions = model(sent_ids1, length1, sent_ids2, length2)\n",
    "    elif model_flag == 'lstm' or model_flag == 'bilstm' or model_flag == 'bilstm_max':\n",
    "       \n",
    "        predictions = model(sent1, length1, sent2, length2)\n",
    "    predicted_label = torch.argmax(predictions, dim=1)\n",
    "    print(predicted_label)\n",
    "    labels = ['neutral', 'entailment', 'contradiction']\n",
    "    print(predictions)\n",
    "    return labels[predicted_label]\n",
    "\n",
    "make_prediction('i like apples', 'apple pie is nice', vocab, model, MODEL_FLAG)"
   ]
  }
 ],
 "metadata": {
  "anaconda-cloud": {},
  "kernelspec": {
   "display_name": "Python [default]",
   "language": "python",
   "name": "python3"
  },
  "language_info": {
   "codemirror_mode": {
    "name": "ipython",
    "version": 3
   },
   "file_extension": ".py",
   "mimetype": "text/x-python",
   "name": "python",
   "nbconvert_exporter": "python",
   "pygments_lexer": "ipython3",
   "version": "3.9.19"
  },
  "latex_envs": {
   "bibliofile": "biblio.bib",
   "cite_by": "apalike",
   "current_citInitial": 1,
   "eqLabelWithNumbers": true,
   "eqNumInitial": 0
  }
 },
 "nbformat": 4,
 "nbformat_minor": 2
}
