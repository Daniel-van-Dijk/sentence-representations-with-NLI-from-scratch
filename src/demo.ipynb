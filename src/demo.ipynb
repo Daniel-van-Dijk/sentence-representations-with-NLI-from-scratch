{
 "cells": [
  {
   "cell_type": "markdown",
   "metadata": {},
   "source": [
    "# Model demo\n",
    "\n"
   ]
  },
  {
   "cell_type": "code",
   "execution_count": 1,
   "metadata": {},
   "outputs": [
    {
     "name": "stdout",
     "output_type": "stream",
     "text": [
      "cpu\n"
     ]
    }
   ],
   "source": [
    "import torch\n",
    "import torch.nn as nn\n",
    "import torch.nn.functional as F\n",
    "from preprocess import *\n",
    "from spacy.lang.en import English\n",
    "import os\n",
    "import numpy as np\n",
    "from utils import save_file, load_file, load_model\n",
    "device = torch.device('cuda' if torch.cuda.is_available() else 'cpu')\n",
    "print(device)"
   ]
  },
  {
   "cell_type": "code",
   "execution_count": 2,
   "metadata": {},
   "outputs": [
    {
     "name": "stdout",
     "output_type": "stream",
     "text": [
      "loading vocab from file\n",
      "saved_files/NLI_vocab.pkl\n",
      "loaded embeddings from file\n",
      "loading bilstm_max\n"
     ]
    }
   ],
   "source": [
    "MODEL_FLAG = 'bilstm_max'\n",
    "state_file_path = f'weights/{MODEL_FLAG}/{MODEL_FLAG}_best.pth'\n",
    "\n",
    "labels = ['neutral', 'entailment', 'contradiction']\n",
    "vocab_file = 'NLI_vocab.pkl'\n",
    "folder = 'saved_files'\n",
    "if os.path.exists(f'{folder}/{vocab_file}'):\n",
    "    print('loading vocab from file')\n",
    "    vocab = load_file(vocab_file)\n",
    "else:\n",
    "    print('creating vocab with training set')\n",
    "    train_split = preprocess(split='train')\n",
    "    vocab = create_vocab(train_split)\n",
    "    save_file(vocab, vocab_file)\n",
    "\n",
    "vocab_size = len(vocab.mapping)\n",
    "embeddings = align_vocab_with_glove(vocab)\n",
    "model = load_model(embeddings, labels, vocab_size, device, MODEL_FLAG, state_file_path)"
   ]
  },
  {
   "cell_type": "code",
   "execution_count": 3,
   "metadata": {},
   "outputs": [
    {
     "data": {
      "text/plain": [
       "([29982, 17706, 25860, 30238, 14643, 7790], [6])"
      ]
     },
     "execution_count": 3,
     "metadata": {},
     "output_type": "execute_result"
    }
   ],
   "source": [
    "def transform_sentence(sent, vocab):\n",
    "    nlp = English()\n",
    "    tokenizer = nlp.tokenizer\n",
    "    sent = list(tokenizer(sent.lower()))\n",
    "    sent_ids = []\n",
    "    for token in sent:\n",
    "        sent_ids.append(vocab.mapping.get(token.text, 0))\n",
    "    return sent_ids, [len(sent_ids)]\n",
    "\n",
    "transform_sentence('This maps sentences to id', vocab)"
   ]
  },
  {
   "cell_type": "code",
   "execution_count": 25,
   "metadata": {},
   "outputs": [
    {
     "name": "stdout",
     "output_type": "stream",
     "text": [
      "premise: bob loves you\n",
      "hypothesis: he is outside\n",
      "\n",
      "\n",
      "predicted neutral with 0.739 probability\n",
      "predicted entailment with 0.023 probability\n",
      "predicted contradiction with 0.237 probability\n",
      "\n",
      "\n",
      "Therefore, predicted relation: neutral\n"
     ]
    }
   ],
   "source": [
    "def make_prediction(sent1, sent2, vocab, model, model_flag):\n",
    "    print(f'premise: {sent1}')\n",
    "    print(f'hypothesis: {sent2}')\n",
    "    print(\"\\n\")\n",
    "    sent_ids1, length1 = transform_sentence(sent1, vocab)\n",
    "    sent_ids2, length2 = transform_sentence(sent2, vocab)\n",
    "    sent1 = torch.tensor([sent_ids1])\n",
    "    sent2 = torch.tensor([sent_ids2])\n",
    "    if model_flag == 'bow':\n",
    "        logits = model(sent_ids1, length1, sent_ids2, length2)\n",
    "    elif model_flag == 'lstm' or model_flag == 'bilstm' or model_flag == 'bilstm_max':\n",
    "        logits = model(sent1, length1, sent2, length2)\n",
    "\n",
    "    probabilities = F.softmax(logits, dim=1)\n",
    "    predicted_label = torch.argmax(probabilities, dim=1)\n",
    "    labels = ['neutral', 'entailment', 'contradiction']\n",
    "    # output tensor to readable probabilities\n",
    "    prob_list = [round(prob, 3) for prob in probabilities.tolist()[0]]\n",
    "    for label, prob in zip(labels, prob_list):\n",
    "        print(f'predicted {label} with {prob} probability')\n",
    "    print('\\n')\n",
    "    print(f'Therefore, predicted relation: {labels[predicted_label]}')\n",
    "    return labels[predicted_label]\n",
    "\n",
    "relation = make_prediction('bob loves you', 'he is outside', vocab, model, MODEL_FLAG)"
   ]
  }
 ],
 "metadata": {
  "anaconda-cloud": {},
  "kernelspec": {
   "display_name": "Python [default]",
   "language": "python",
   "name": "python3"
  },
  "language_info": {
   "codemirror_mode": {
    "name": "ipython",
    "version": 3
   },
   "file_extension": ".py",
   "mimetype": "text/x-python",
   "name": "python",
   "nbconvert_exporter": "python",
   "pygments_lexer": "ipython3",
   "version": "3.9.19"
  },
  "latex_envs": {
   "bibliofile": "biblio.bib",
   "cite_by": "apalike",
   "current_citInitial": 1,
   "eqLabelWithNumbers": true,
   "eqNumInitial": 0
  }
 },
 "nbformat": 4,
 "nbformat_minor": 2
}
