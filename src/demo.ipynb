{
 "cells": [
  {
   "cell_type": "markdown",
   "metadata": {},
   "source": [
    "# Model demo\n",
    "\n"
   ]
  },
  {
   "cell_type": "code",
   "execution_count": 1,
   "metadata": {},
   "outputs": [
    {
     "name": "stdout",
     "output_type": "stream",
     "text": [
      "cpu\n"
     ]
    }
   ],
   "source": [
    "import torch\n",
    "import torch.nn as nn\n",
    "import torch.nn.functional as F\n",
    "from preprocess import *\n",
    "from spacy.lang.en import English\n",
    "import os\n",
    "import numpy as np\n",
    "import statistics\n",
    "from utils import save_file, load_file, load_model\n",
    "device = torch.device('cuda' if torch.cuda.is_available() else 'cpu')\n",
    "print(device)"
   ]
  },
  {
   "cell_type": "markdown",
   "metadata": {},
   "source": [
    "The following four models can be tested by changing MODEL_FLAG:\n",
    "\n",
    "- 'bow': for the bag of words model, where glove embeddings of the sequence are averaged to obtain sentence representations.\n",
    "\n",
    "- 'lstm': for the LSTM model where the final hidden state is used as a sentence representation.\n",
    "\n",
    "- 'lstm_max': for the LSTM model with max pooling over the hidden states of the sequence (for extra research question). \n",
    "\n",
    "- 'bilstm': for the BiLSTM model where the concatenation of the final hidden states (of the forward and backward LSTM) is used as sentence representation.\n",
    "\n",
    "- 'bilstm_max': for the BiLSTM model with max pooling over the concatenated hidden states (of forward and backward LSTM) of the sequence. "
   ]
  },
  {
   "cell_type": "code",
   "execution_count": 2,
   "metadata": {},
   "outputs": [
    {
     "name": "stdout",
     "output_type": "stream",
     "text": [
      "loading vocab from file\n",
      "saved_files/NLI_vocab.pkl\n",
      "loaded embeddings from file\n",
      "loading bilstm_max\n",
      "bilstm_max has 47155715 trainable parameters\n"
     ]
    }
   ],
   "source": [
    "MODEL_FLAG = 'bilstm_max'\n",
    "state_file_path = f'weights/{MODEL_FLAG}/{MODEL_FLAG}_best.pth'\n",
    "\n",
    "labels = ['neutral', 'entailment', 'contradiction']\n",
    "vocab_file = 'NLI_vocab.pkl'\n",
    "folder = 'saved_files'\n",
    "if os.path.exists(f'{folder}/{vocab_file}'):\n",
    "    print('loading vocab from file')\n",
    "    vocab = load_file(vocab_file)\n",
    "else:\n",
    "    print('creating vocab with training set')\n",
    "    train_split = preprocess(split='train')\n",
    "    vocab = create_vocab(train_split)\n",
    "    save_file(vocab, vocab_file)\n",
    "\n",
    "vocab_size = len(vocab.mapping)\n",
    "# embeddings need to be saved to file once. Not uploaded because of file size\n",
    "embeddings = align_vocab_with_glove(vocab)\n",
    "model = load_model(embeddings, labels, vocab_size, device, MODEL_FLAG, state_file_path)\n",
    "total_params = sum(p.numel() for p in model.parameters() if p.requires_grad)\n",
    "\n",
    "print(f\"{MODEL_FLAG} has {total_params} trainable parameters\")\n",
    "# lstm: 23710211, bilstm 47155715 and bow: 879107"
   ]
  },
  {
   "cell_type": "code",
   "execution_count": 3,
   "metadata": {},
   "outputs": [
    {
     "name": "stdout",
     "output_type": "stream",
     "text": [
      "premise: a woman with a green headscarf , blue shirt and a very big grin.\n",
      "hypothesis: the woman is young.\n",
      "\n",
      "\n",
      "predicted neutral with 0.425 probability\n",
      "predicted entailment with 0.568 probability\n",
      "predicted contradiction with 0.007 probability\n",
      "\n",
      "\n",
      "Therefore, predicted relation: entailment\n"
     ]
    }
   ],
   "source": [
    "def transform_sentence(sent, vocab, tokenize=True):\n",
    "    \"\"\" \n",
    "    Input: string and model vocab \n",
    "    Maps tokens to ids after optionally tokenizing and lowering.\n",
    "    Returns the id's from vocab and sentence length\"\"\"\n",
    "    if tokenize:\n",
    "        nlp = English()\n",
    "        tokenizer = nlp.tokenizer\n",
    "        sent = list(tokenizer(sent.lower()))\n",
    "    sent_ids = []\n",
    "    for token in sent:\n",
    "        sent_ids.append(vocab.mapping.get(token.text, 0))\n",
    "    return sent_ids, [len(sent_ids)]\n",
    "# transform_sentence('This function maps tokens to ids and returns length', vocab)\n",
    "\n",
    "def make_prediction(sent1, sent2, vocab, model, model_flag, printing=True, tokenize=True):\n",
    "    \"\"\"\n",
    "    Input: sent1 and sent2 as strings, vocab, loaded model and corresponding model flag.\n",
    "    Uses chosen model to make prediction about relation between sentences. \n",
    "    Set printing to false for experiment with whole test set. \n",
    "    Set tokenize to false if sentences are already tokenized\n",
    "    Returns: predicted relation as string, numeric label and length of sentences\n",
    "    \"\"\"\n",
    "    if printing:\n",
    "        print(f'premise: {sent1}')\n",
    "        print(f'hypothesis: {sent2}')\n",
    "        print(\"\\n\")\n",
    "    sent_ids1, length1 = transform_sentence(sent1, vocab, tokenize)\n",
    "    sent_ids2, length2 = transform_sentence(sent2, vocab, tokenize)\n",
    "    sent1 = torch.tensor([sent_ids1])\n",
    "    sent2 = torch.tensor([sent_ids2])\n",
    "    if model_flag == 'bow':\n",
    "        logits = model(sent1, sent2)\n",
    "    elif model_flag == 'lstm' or model_flag == 'bilstm' or model_flag == 'bilstm_max' or model_flag == 'lstm_max':\n",
    "        logits = model(sent1, length1, sent2, length2)\n",
    "\n",
    "    probabilities = F.softmax(logits, dim=1)\n",
    "    predicted_label = torch.argmax(probabilities, dim=1)\n",
    "    labels = ['neutral', 'entailment', 'contradiction']\n",
    "    # output tensor to readable probabilities\n",
    "    prob_list = [round(prob, 3) for prob in probabilities.tolist()[0]]\n",
    "    if printing: \n",
    "        for label, prob in zip(labels, prob_list):\n",
    "            print(f'predicted {label} with {prob} probability')\n",
    "        print('\\n')\n",
    "        print(f'Therefore, predicted relation: {labels[predicted_label]}')\n",
    "    return labels[predicted_label], predicted_label, length1, length2\n",
    "\n",
    "premise = 'a woman with a green headscarf , blue shirt and a very big grin.'\n",
    "hypothesis = 'the woman is young.'\n",
    "relation, numeric, _, _ = make_prediction(premise, hypothesis, vocab, model, MODEL_FLAG)"
   ]
  },
  {
   "cell_type": "code",
   "execution_count": 4,
   "metadata": {},
   "outputs": [
    {
     "name": "stdout",
     "output_type": "stream",
     "text": [
      "done reading test json\n",
      "premise: [a, woman, with, a, green, headscarf, ,, blue, shirt, and, a, very, big, grin, .]\n",
      "hypothesis: [the, woman, is, young, .]\n",
      "\n",
      "\n",
      "predicted neutral with 0.425 probability\n",
      "predicted entailment with 0.568 probability\n",
      "predicted contradiction with 0.007 probability\n",
      "\n",
      "\n",
      "Therefore, predicted relation: entailment\n",
      "actual label: neutral\n",
      "Correct prediction:  False\n",
      "================================\n",
      "premise: [a, woman, with, a, green, headscarf, ,, blue, shirt, and, a, very, big, grin, .]\n",
      "hypothesis: [the, woman, is, very, happy, .]\n",
      "\n",
      "\n",
      "predicted neutral with 0.249 probability\n",
      "predicted entailment with 0.751 probability\n",
      "predicted contradiction with 0.001 probability\n",
      "\n",
      "\n",
      "Therefore, predicted relation: entailment\n",
      "actual label: entailment\n",
      "Correct prediction:  True\n",
      "================================\n",
      "premise: [a, woman, with, a, green, headscarf, ,, blue, shirt, and, a, very, big, grin, .]\n",
      "hypothesis: [the, woman, has, been, shot, .]\n",
      "\n",
      "\n",
      "predicted neutral with 0.57 probability\n",
      "predicted entailment with 0.408 probability\n",
      "predicted contradiction with 0.021 probability\n",
      "\n",
      "\n",
      "Therefore, predicted relation: neutral\n",
      "actual label: contradiction\n",
      "Correct prediction:  False\n",
      "================================\n"
     ]
    }
   ],
   "source": [
    "def extract_examples(vocab, model, MODEL_FLAG, num_examples=1):\n",
    "  \"\"\"\n",
    "  Extract examples with predictions on test set for analysis\n",
    "  One example consists of three related sentences with the three labels\n",
    "  \"\"\"\n",
    "  start = 3\n",
    "  end = 3 + num_examples * 3\n",
    "  test_split = preprocess(split='test')\n",
    "  for example in test_split[start:end]:\n",
    "    prediction, _, _, _ = make_prediction(example['sentence_1'], example['sentence_2'], vocab, model, MODEL_FLAG, printing=True, tokenize=False)\n",
    "    premise = [token.text for token in example['sentence_1']]\n",
    "    hypothesis = [token.text for token in example['sentence_2']]\n",
    "    premise = ' '.join(premise)\n",
    "    hypothesis = ' '.join(hypothesis)\n",
    "    # print(f'premise: {premise}')\n",
    "    # print(f'hypothesis: {hypothesis}')\n",
    "    # print(f'{MODEL_FLAG} predicted: {prediction}')\n",
    "    print('actual label:', example['gold_label'])\n",
    "    print(\"Correct prediction: \", prediction == example['gold_label'])\n",
    "    print('================================')\n",
    "  return \n",
    "extract_examples(vocab, model, MODEL_FLAG)"
   ]
  },
  {
   "cell_type": "code",
   "execution_count": 10,
   "metadata": {},
   "outputs": [
    {
     "name": "stdout",
     "output_type": "stream",
     "text": [
      "done reading test json\n"
     ]
    }
   ],
   "source": [
    "def sent_length_performance(vocab, model, MODEL_FLAG, printing=True):\n",
    "  \"\"\" calculates the performance of the model for different total sentence length on test set\n",
    "  Short sentences are below mean - 1 standard deviation, while long sentences are above mean + 1 SD \"\"\"\n",
    "  test_split = preprocess(split='test')\n",
    "  lengths = []\n",
    "  short_correct, short_total, medium_correct, medium_total, long_correct, long_total = 0, 0, 0, 0, 0, 0\n",
    "  for example in test_split:\n",
    "    \n",
    "    prediction, _, length1, length2 = make_prediction(example['sentence_1'], example['sentence_2'], vocab, model, MODEL_FLAG, printing=False, tokenize=False)\n",
    "    combined_length = length1[0] + length2[0]\n",
    "    lengths.append(combined_length)\n",
    "    if combined_length <= 16:\n",
    "      short_correct += int(prediction == example['gold_label'])\n",
    "      short_total += 1\n",
    "    elif combined_length >= 31:\n",
    "       long_correct += int(prediction == example['gold_label'])\n",
    "       long_total += 1\n",
    "    else:\n",
    "      medium_correct += int(prediction == example['gold_label'])\n",
    "      medium_total += 1\n",
    "  mean = statistics.mean(lengths)\n",
    "  median = statistics.median(lengths)\n",
    "  stdev = statistics.stdev(lengths)\n",
    "  min_value = min(lengths)\n",
    "  max_value = max(lengths)\n",
    "  if printing:\n",
    "    print('Combined sentence length stats of test set')\n",
    "    print(\"mean:\", round(mean, 2))\n",
    "    print(\"standard deviation\", round(stdev, 2))\n",
    "    print('minimal length', min_value)\n",
    "    print('maximum length', max_value)\n",
    "    print(f'{MODEL_FLAG} accuracy on short length input: {round(short_correct / float(short_total) * 100, 2)} %')\n",
    "    print(f'{MODEL_FLAG} accuracy on medium length input: {round(medium_correct / float(medium_total) * 100, 2)} %')\n",
    "    print(f'{MODEL_FLAG} accuracy on long length input: {round(long_correct / float(long_total) * 100, 2)} %')\n",
    "\n",
    "  return short_correct, short_total, short_correct / float(short_total), medium_correct, medium_total, medium_correct / float(medium_total), long_correct, long_total, long_correct / float(long_total),\n",
    "  \n",
    "sent_length_performance(vocab, model, MODEL_FLAG)"
   ]
  }
 ],
 "metadata": {
  "anaconda-cloud": {},
  "kernelspec": {
   "display_name": "Python [default]",
   "language": "python",
   "name": "python3"
  },
  "language_info": {
   "codemirror_mode": {
    "name": "ipython",
    "version": 3
   },
   "file_extension": ".py",
   "mimetype": "text/x-python",
   "name": "python",
   "nbconvert_exporter": "python",
   "pygments_lexer": "ipython3",
   "version": "3.9.19"
  },
  "latex_envs": {
   "bibliofile": "biblio.bib",
   "cite_by": "apalike",
   "current_citInitial": 1,
   "eqLabelWithNumbers": true,
   "eqNumInitial": 0
  }
 },
 "nbformat": 4,
 "nbformat_minor": 2
}
