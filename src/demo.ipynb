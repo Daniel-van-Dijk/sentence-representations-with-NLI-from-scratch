{
 "cells": [
  {
   "cell_type": "markdown",
   "metadata": {},
   "source": [
    "# Model demo\n",
    "\n"
   ]
  },
  {
   "cell_type": "code",
   "execution_count": 1,
   "metadata": {},
   "outputs": [
    {
     "name": "stdout",
     "output_type": "stream",
     "text": [
      "cpu\n"
     ]
    }
   ],
   "source": [
    "import torch\n",
    "import torch.nn as nn\n",
    "import torch.nn.functional as F\n",
    "from preprocess import *\n",
    "from spacy.lang.en import English\n",
    "import os\n",
    "import numpy as np\n",
    "from utils import save_file, load_file, load_model\n",
    "device = torch.device('cuda' if torch.cuda.is_available() else 'cpu')\n",
    "print(device)"
   ]
  },
  {
   "cell_type": "markdown",
   "metadata": {},
   "source": [
    "The following four models can be tested by changing MODEL_FLAG:\n",
    "\n",
    "- 'bow': for the bag of words model, where glove embeddings are averaged to obtain sentence representations.\n",
    "- 'lstm': for the LSTM model where the final hidden state is used as sentence representation\n",
    "- 'bilstm': for the BiLSTM model where the concatenation of the final hidden states of the forward and backward LSTM is used as sentence representation.\n",
    "- 'bilstm_max': for the BiLSTM model with max pooling over the concatenated hidden states (of forward and backward LSTM) of the sequence. "
   ]
  },
  {
   "cell_type": "code",
   "execution_count": 2,
   "metadata": {},
   "outputs": [
    {
     "name": "stdout",
     "output_type": "stream",
     "text": [
      "loading vocab from file\n",
      "saved_files/NLI_vocab.pkl\n",
      "loaded embeddings from file\n",
      "loading lstm\n"
     ]
    }
   ],
   "source": [
    "MODEL_FLAG = 'lstm'\n",
    "state_file_path = f'weights/{MODEL_FLAG}/{MODEL_FLAG}_best.pth'\n",
    "\n",
    "labels = ['neutral', 'entailment', 'contradiction']\n",
    "vocab_file = 'NLI_vocab.pkl'\n",
    "folder = 'saved_files'\n",
    "if os.path.exists(f'{folder}/{vocab_file}'):\n",
    "    print('loading vocab from file')\n",
    "    vocab = load_file(vocab_file)\n",
    "else:\n",
    "    print('creating vocab with training set')\n",
    "    train_split = preprocess(split='train')\n",
    "    vocab = create_vocab(train_split)\n",
    "    save_file(vocab, vocab_file)\n",
    "\n",
    "vocab_size = len(vocab.mapping)\n",
    "embeddings = align_vocab_with_glove(vocab)\n",
    "model = load_model(embeddings, labels, vocab_size, device, MODEL_FLAG, state_file_path)"
   ]
  },
  {
   "cell_type": "code",
   "execution_count": 5,
   "metadata": {},
   "outputs": [
    {
     "data": {
      "text/plain": [
       "([29982, 12010, 17706, 30303, 30238, 14706, 1325, 24363, 16756], [9])"
      ]
     },
     "execution_count": 5,
     "metadata": {},
     "output_type": "execute_result"
    }
   ],
   "source": [
    "def transform_sentence(sent, vocab, tokenize=True):\n",
    "    if tokenize:\n",
    "        nlp = English()\n",
    "        tokenizer = nlp.tokenizer\n",
    "        sent = list(tokenizer(sent.lower()))\n",
    "    sent_ids = []\n",
    "    for token in sent:\n",
    "        sent_ids.append(vocab.mapping.get(token.text, 0))\n",
    "    return sent_ids, [len(sent_ids)]\n",
    "\n",
    "transform_sentence('This function maps tokens to ids and returns length', vocab)"
   ]
  },
  {
   "cell_type": "code",
   "execution_count": 6,
   "metadata": {},
   "outputs": [
    {
     "name": "stdout",
     "output_type": "stream",
     "text": [
      "premise: bob loves you\n",
      "hypothesis: he is outside\n",
      "\n",
      "\n",
      "predicted neutral with 0.867 probability\n",
      "predicted entailment with 0.115 probability\n",
      "predicted contradiction with 0.017 probability\n",
      "\n",
      "\n",
      "Therefore, predicted relation: neutral\n"
     ]
    }
   ],
   "source": [
    "def make_prediction(sent1, sent2, vocab, model, model_flag, printing=True, tokenize=True):\n",
    "    if printing:\n",
    "        print(f'premise: {sent1}')\n",
    "        print(f'hypothesis: {sent2}')\n",
    "        print(\"\\n\")\n",
    "    sent_ids1, length1 = transform_sentence(sent1, vocab, tokenize)\n",
    "    sent_ids2, length2 = transform_sentence(sent2, vocab, tokenize)\n",
    "    sent1 = torch.tensor([sent_ids1])\n",
    "    sent2 = torch.tensor([sent_ids2])\n",
    "    if model_flag == 'bow':\n",
    "        logits = model(sent1, sent2)\n",
    "    elif model_flag == 'lstm' or model_flag == 'bilstm' or model_flag == 'bilstm_max':\n",
    "        logits = model(sent1, length1, sent2, length2)\n",
    "\n",
    "    probabilities = F.softmax(logits, dim=1)\n",
    "    predicted_label = torch.argmax(probabilities, dim=1)\n",
    "    labels = ['neutral', 'entailment', 'contradiction']\n",
    "    # output tensor to readable probabilities\n",
    "    prob_list = [round(prob, 3) for prob in probabilities.tolist()[0]]\n",
    "    if printing: \n",
    "        for label, prob in zip(labels, prob_list):\n",
    "            print(f'predicted {label} with {prob} probability')\n",
    "        print('\\n')\n",
    "        print(f'Therefore, predicted relation: {labels[predicted_label]}')\n",
    "    return labels[predicted_label], predicted_label, length1, length2\n",
    "\n",
    "relation, numeric, _, _ = make_prediction('bob loves you', 'he is outside', vocab, model, MODEL_FLAG)"
   ]
  },
  {
   "cell_type": "code",
   "execution_count": 7,
   "metadata": {},
   "outputs": [
    {
     "name": "stdout",
     "output_type": "stream",
     "text": [
      "done reading test json\n",
      "Combined sentence length stats of test set\n",
      "mean: 23.64\n",
      "standard deviation 7.83\n",
      "minimal length 6\n",
      "maximum length 73\n",
      "lstm accuracy on short length input: 82.22 %\n",
      "lstm accuracy on medium length input: 80.83 %\n",
      "lstm accuracy on long length input: 76.06 %\n"
     ]
    },
    {
     "data": {
      "text/plain": [
       "(1378,\n",
       " 1676,\n",
       " 0.8221957040572793,\n",
       " 5161,\n",
       " 6385,\n",
       " 0.8083007047768207,\n",
       " 1341,\n",
       " 1763,\n",
       " 0.7606352807714124)"
      ]
     },
     "execution_count": 7,
     "metadata": {},
     "output_type": "execute_result"
    }
   ],
   "source": [
    "import statistics\n",
    "def sent_length_performance(vocab, model, MODEL_FLAG, printing=True):\n",
    "  test_split = preprocess(split='test')\n",
    "  lengths = []\n",
    "  short_correct, short_total, medium_correct, medium_total, long_correct, long_total = 0, 0, 0, 0, 0, 0\n",
    "  for example in test_split:\n",
    "    \n",
    "    prediction, _, length1, length2 = make_prediction(example['sentence_1'], example['sentence_2'], vocab, model, MODEL_FLAG, printing=False, tokenize=False)\n",
    "    combined_length = length1[0] + length2[0]\n",
    "    lengths.append(combined_length)\n",
    "    if combined_length <= 16:\n",
    "      short_correct += int(prediction == example['gold_label'])\n",
    "      short_total += 1\n",
    "    elif combined_length >= 31:\n",
    "       long_correct += int(prediction == example['gold_label'])\n",
    "       long_total += 1\n",
    "    else:\n",
    "      medium_correct += int(prediction == example['gold_label'])\n",
    "      medium_total += 1\n",
    "  mean = statistics.mean(lengths)\n",
    "  median = statistics.median(lengths)\n",
    "  stdev = statistics.stdev(lengths)\n",
    "  min_value = min(lengths)\n",
    "  max_value = max(lengths)\n",
    "  if printing:\n",
    "    print('Combined sentence length stats of test set')\n",
    "    print(\"mean:\", round(mean, 2))\n",
    "    print(\"standard deviation\", round(stdev, 2))\n",
    "    print('minimal length', min_value)\n",
    "    print('maximum length', max_value)\n",
    "    print(f'{MODEL_FLAG} accuracy on short length input: {round(short_correct / float(short_total) * 100, 2)} %')\n",
    "    print(f'{MODEL_FLAG} accuracy on medium length input: {round(medium_correct / float(medium_total) * 100, 2)} %')\n",
    "    print(f'{MODEL_FLAG} accuracy on long length input: {round(long_correct / float(long_total) * 100, 2)} %')\n",
    "\n",
    "  return short_correct, short_total, short_correct / float(short_total), medium_correct, medium_total, medium_correct / float(medium_total), long_correct, long_total, long_correct / float(long_total),\n",
    "  \n",
    "sent_length_performance(vocab, model, MODEL_FLAG)"
   ]
  }
 ],
 "metadata": {
  "anaconda-cloud": {},
  "kernelspec": {
   "display_name": "Python [default]",
   "language": "python",
   "name": "python3"
  },
  "language_info": {
   "codemirror_mode": {
    "name": "ipython",
    "version": 3
   },
   "file_extension": ".py",
   "mimetype": "text/x-python",
   "name": "python",
   "nbconvert_exporter": "python",
   "pygments_lexer": "ipython3",
   "version": "3.9.19"
  },
  "latex_envs": {
   "bibliofile": "biblio.bib",
   "cite_by": "apalike",
   "current_citInitial": 1,
   "eqLabelWithNumbers": true,
   "eqNumInitial": 0
  }
 },
 "nbformat": 4,
 "nbformat_minor": 2
}
